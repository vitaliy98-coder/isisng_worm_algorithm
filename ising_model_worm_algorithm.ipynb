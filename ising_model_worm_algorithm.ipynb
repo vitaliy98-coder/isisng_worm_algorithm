{
  "nbformat": 4,
  "nbformat_minor": 0,
  "metadata": {
    "colab": {
      "name": "Untitled10.ipynb",
      "provenance": []
    },
    "kernelspec": {
      "name": "python3",
      "display_name": "Python 3"
    }
  },
  "cells": [
    {
      "cell_type": "code",
      "metadata": {
        "id": "0CiLIp9eoDpr"
      },
      "source": [
        "import random\r\n",
        "import math\r\n",
        "import matplotlib.pyplot as plt\r\n",
        "import numpy as np"
      ],
      "execution_count": null,
      "outputs": []
    },
    {
      "cell_type": "markdown",
      "metadata": {
        "id": "RU_vWawhtXHS"
      },
      "source": [
        "МОДЕЛЬ ИЗИНГА РЕАЛИЗОВАННАЯ АЛГОРИТМОМ ЧЕРВЯ\r\n"
      ]
    },
    {
      "cell_type": "markdown",
      "metadata": {
        "id": "1_QQE_fHtlYZ"
      },
      "source": [
        "Начальные данные:\r\n",
        "\r\n",
        "1. T-Температурный коэффициент T0/J\r\n",
        "\r\n",
        "2. L-Размер модели L\r\n",
        "\r\n",
        "3. nsteps - число шагов\r\n"
      ]
    },
    {
      "cell_type": "code",
      "metadata": {
        "id": "QBzu5A-sqXOx"
      },
      "source": [
        "T = 2.27\r\n",
        "L = 10\r\n",
        "nsteps = 1000000\r\n",
        "N = L**2"
      ],
      "execution_count": null,
      "outputs": []
    },
    {
      "cell_type": "markdown",
      "metadata": {
        "id": "p861OWXaulF9"
      },
      "source": [
        "Создание наборов соседей для каждой точки"
      ]
    },
    {
      "cell_type": "code",
      "metadata": {
        "id": "nFntbONVqXis"
      },
      "source": [
        "nbr = {i: ((i // L) * L + (i + 1) % L, (i + L) % N,\r\n",
        "       (i // L) * L + (i - 1) % L, (i - L) % N) for i in range(N)}"
      ],
      "execution_count": null,
      "outputs": []
    },
    {
      "cell_type": "markdown",
      "metadata": {
        "id": "RrPED7yquz1Q"
      },
      "source": [
        "Создание набора ребер "
      ]
    },
    {
      "cell_type": "code",
      "metadata": {
        "id": "61EzKwPvqXs-"
      },
      "source": [
        "bonds = {}\r\n",
        "for i in range(N):\r\n",
        "    for j in nbr[i]:\r\n",
        "        if tuple(sorted([i, j])) not in bonds.keys():\r\n",
        "            bonds[tuple(sorted([i, j]))] = 0"
      ],
      "execution_count": null,
      "outputs": []
    },
    {
      "cell_type": "markdown",
      "metadata": {
        "id": "kJRxzbKGu7_o"
      },
      "source": [
        "Функция алгоритма червя\r\n",
        "\r\n",
        "Случайным образом выбираемм начало(I) и конец (M) червя, затем так же случайным оразом выбираем соседнее ребро относительно начала, обновляем вес ребра с вероятностями \r\n",
        "\r\n",
        "K / (nb + 1.0) если прибовляем +1\r\n",
        "\r\n",
        "nb * inv_K    если отнимаем -1\r\n",
        "\r\n",
        "Далее обновляем конец червя (M = new_M) и начинаем все заново\r\n",
        "Если начало и конец червя совпали то считаем энергию (E_tot += - T * Nb)\r\n"
      ]
    },
    {
      "cell_type": "code",
      "metadata": {
        "id": "tsa7LUzkqX1D"
      },
      "source": [
        "def worm_alg(bonds,  T,  nsteps):\r\n",
        "    \r\n",
        "    K = 1.0 / T\r\n",
        "    inv_K = 1.0 / K\r\n",
        "    Z = 0.0\r\n",
        "    Nb = 0\r\n",
        "    E_tot = 0.0\r\n",
        "    I = 0\r\n",
        "    M = 0\r\n",
        "    N_b2=0\r\n",
        "    N_b=0\r\n",
        "    \r\n",
        "        \r\n",
        "    for step in range(nsteps):\r\n",
        "        if I == M:\r\n",
        "            I = random.randrange(N)\r\n",
        "            M = I\r\n",
        "            Z += 1.0\r\n",
        "\r\n",
        "            N_b2+=(Nb*Nb-Nb)\r\n",
        "            N_b+=Nb\r\n",
        "            \r\n",
        "            E_tot += - T * Nb\r\n",
        "    \r\n",
        "        new_M = random.choice(nbr[M])\r\n",
        "        bond = tuple(sorted([M, new_M]))\r\n",
        "        nb = bonds[bond]\r\n",
        "        if random.uniform(0.0, 1.0) < 0.5:\r\n",
        "            delta_nb = 1\r\n",
        "            #P_acc = math.tanh(K)\r\n",
        "            P_acc = K / (nb + 1.0)\r\n",
        "        \r\n",
        "        else:\r\n",
        "            delta_nb = -1\r\n",
        "        \r\n",
        "            #P_acc = math.atanh(K)\r\n",
        "            P_acc = nb * inv_K\r\n",
        "        if random.uniform(0.0, 1.0) < P_acc:\r\n",
        "            bonds[bond] += delta_nb\r\n",
        "            Nb += delta_nb\r\n",
        "\r\n",
        "            M = new_M\r\n",
        "       \r\n",
        "  \r\n",
        "    \r\n",
        "    return (((N_b2/Z)-(N_b/Z)**2)/float(N)) , (E_tot / Z / float(N))\r\n",
        "   \r\n"
      ],
      "execution_count": null,
      "outputs": []
    },
    {
      "cell_type": "markdown",
      "metadata": {
        "id": "s_-rBWRnxp36"
      },
      "source": [
        "Вывод конфигурации ребер при T=2.27\r\n"
      ]
    },
    {
      "cell_type": "code",
      "metadata": {
        "colab": {
          "base_uri": "https://localhost:8080/"
        },
        "id": "WvBNT1RPqX9F",
        "outputId": "005c2787-6f9f-4576-c671-180413a9fda1"
      },
      "source": [
        "\r\n",
        "a,b=worm_alg(bonds,  T,  nsteps)\r\n",
        "\r\n",
        "#print(a)\r\n",
        "\r\n",
        "print(bonds)\r\n",
        "\r\n",
        "bonds = {}\r\n",
        "for i in range(N):\r\n",
        "    for j in nbr[i]:\r\n",
        "        if tuple(sorted([i, j])) not in bonds.keys():\r\n",
        "            bonds[tuple(sorted([i, j]))] = 0 \r\n",
        "\r\n"
      ],
      "execution_count": null,
      "outputs": [
        {
          "output_type": "stream",
          "text": [
            "{(0, 1): 0, (0, 10): 1, (0, 9): 2, (0, 90): 1, (1, 2): 0, (1, 11): 0, (1, 91): 0, (2, 3): 0, (2, 12): 0, (2, 92): 0, (3, 4): 2, (3, 13): 2, (3, 93): 0, (4, 5): 0, (4, 14): 0, (4, 94): 2, (5, 6): 0, (5, 15): 1, (5, 95): 1, (6, 7): 0, (6, 16): 0, (6, 96): 0, (7, 8): 2, (7, 17): 0, (7, 97): 2, (8, 9): 0, (8, 18): 0, (8, 98): 0, (9, 19): 0, (9, 99): 0, (10, 11): 0, (10, 20): 1, (10, 19): 0, (11, 12): 0, (11, 21): 0, (12, 13): 0, (12, 22): 0, (13, 14): 0, (13, 23): 0, (14, 15): 0, (14, 24): 0, (15, 16): 1, (15, 25): 0, (16, 17): 1, (16, 26): 0, (17, 18): 0, (17, 27): 1, (18, 19): 0, (18, 28): 0, (19, 29): 0, (20, 21): 1, (20, 30): 0, (20, 29): 0, (21, 22): 1, (21, 31): 0, (22, 23): 1, (22, 32): 0, (23, 24): 0, (23, 33): 1, (24, 25): 0, (24, 34): 0, (25, 26): 0, (25, 35): 0, (26, 27): 1, (26, 36): 1, (27, 28): 0, (27, 37): 0, (28, 29): 0, (28, 38): 0, (29, 39): 0, (30, 31): 0, (30, 40): 2, (30, 39): 0, (31, 32): 0, (31, 41): 0, (32, 33): 0, (32, 42): 0, (33, 34): 1, (33, 43): 0, (34, 35): 0, (34, 44): 0, (35, 36): 0, (35, 45): 2, (36, 37): 0, (36, 46): 1, (37, 38): 0, (37, 47): 0, (38, 39): 1, (38, 48): 1, (39, 49): 1, (40, 41): 1, (40, 50): 0, (40, 49): 1, (41, 42): 0, (41, 51): 1, (42, 43): 0, (42, 52): 0, (43, 44): 0, (43, 53): 0, (44, 45): 0, (44, 54): 0, (45, 46): 0, (45, 55): 0, (46, 47): 0, (46, 56): 1, (47, 48): 0, (47, 57): 0, (48, 49): 0, (48, 58): 1, (49, 59): 0, (50, 51): 0, (50, 60): 0, (50, 59): 2, (51, 52): 1, (51, 61): 0, (52, 53): 0, (52, 62): 1, (53, 54): 0, (53, 63): 0, (54, 55): 0, (54, 64): 0, (55, 56): 0, (55, 65): 0, (56, 57): 0, (56, 66): 1, (57, 58): 2, (57, 67): 0, (58, 59): 1, (58, 68): 0, (59, 69): 1, (60, 61): 1, (60, 70): 1, (60, 69): 0, (61, 62): 1, (61, 71): 0, (62, 63): 0, (62, 72): 0, (63, 64): 0, (63, 73): 0, (64, 65): 0, (64, 74): 0, (65, 66): 0, (65, 75): 0, (66, 67): 2, (66, 76): 1, (67, 68): 0, (67, 77): 2, (68, 69): 0, (68, 78): 0, (69, 79): 1, (70, 71): 0, (70, 80): 1, (70, 79): 0, (71, 72): 0, (71, 81): 0, (72, 73): 0, (72, 82): 0, (73, 74): 0, (73, 83): 0, (74, 75): 0, (74, 84): 0, (75, 76): 0, (75, 85): 0, (76, 77): 0, (76, 86): 1, (77, 78): 0, (77, 87): 0, (78, 79): 0, (78, 88): 0, (79, 89): 1, (80, 81): 1, (80, 90): 0, (80, 89): 0, (81, 82): 1, (81, 91): 0, (82, 83): 0, (82, 92): 0, (83, 84): 0, (83, 93): 0, (84, 85): 0, (84, 94): 0, (85, 86): 1, (85, 95): 1, (86, 87): 2, (86, 96): 0, (87, 88): 0, (87, 97): 0, (88, 89): 0, (88, 98): 0, (89, 99): 1, (90, 91): 0, (90, 99): 1, (91, 92): 2, (92, 93): 0, (93, 94): 0, (94, 95): 0, (95, 96): 0, (96, 97): 0, (97, 98): 0, (98, 99): 2}\n"
          ],
          "name": "stdout"
        }
      ]
    },
    {
      "cell_type": "code",
      "metadata": {
        "id": "pRVSgwGSq3-8"
      },
      "source": [
        "t=np.linspace(1,5,19)\r\n",
        "\r\n",
        "E=np.zeros(t.size, dtype=float)\r\n",
        "C=np.zeros(t.size, dtype=float)\r\n",
        "\r\n",
        "for k in range(t.size):     \r\n",
        "    a,b=worm_alg(bonds,  t[k],  nsteps)\r\n",
        "    bonds = {}\r\n",
        "    for i in range(N):\r\n",
        "        for j in nbr[i]:\r\n",
        "            if tuple(sorted([i, j])) not in bonds.keys():\r\n",
        "                bonds[tuple(sorted([i, j]))] = 0                \r\n",
        "    E[k]=b\r\n",
        "    C[k]=a\r\n",
        "          \r\n"
      ],
      "execution_count": null,
      "outputs": []
    },
    {
      "cell_type": "code",
      "metadata": {
        "colab": {
          "base_uri": "https://localhost:8080/",
          "height": 279
        },
        "id": "mD6GhW8_494j",
        "outputId": "85db4940-e7d4-4681-9589-d35aff04d5f1"
      },
      "source": [
        "plt.plot(t,E, 'o-', )\r\n",
        "plt.xlabel(\"T/J\")\r\n",
        "plt.ylabel(\"E/N\")\r\n",
        "\r\n",
        "plt.show()"
      ],
      "execution_count": null,
      "outputs": [
        {
          "output_type": "display_data",
          "data": {
            "image/png": "[encoded data removed]",
            "text/plain": [
              "<Figure size 432x288 with 1 Axes>"
            ]
          },
          "metadata": {
            "tags": [],
            "needs_background": "light"
          }
        }
      ]
    },
    {
      "cell_type": "code",
      "metadata": {
        "colab": {
          "base_uri": "https://localhost:8080/",
          "height": 279
        },
        "id": "TBxhlrsQq4KU",
        "outputId": "75614344-589e-477f-f5bd-4f084b879952"
      },
      "source": [
        "plt.plot(t,C,'o-')\r\n",
        "plt.xlabel(\"T/J\")\r\n",
        "plt.ylabel(\"C/N\")\r\n",
        "plt.show()"
      ],
      "execution_count": null,
      "outputs": [
        {
          "output_type": "display_data",
          "data": {
            "image/png": "[encoded data removed]",
            "text/plain": [
              "<Figure size 432x288 with 1 Axes>"
            ]
          },
          "metadata": {
            "tags": [],
            "needs_background": "light"
          }
        }
      ]
    },
    {
      "cell_type": "code",
      "metadata": {
        "id": "9ZPYbAoFdgAA"
      },
      "source": [
        "from PIL import Image\r\n",
        "import numpy as np\r\n",
        "from numpy.random import rand \r\n",
        "from ipywidgets import interact\r\n",
        "\r\n",
        "def random_spin_field(N, M):\r\n",
        "    return np.random.choice([-1, 1], size=(N, M))\r\n",
        "\r\n",
        "\r\n",
        "def display_spin_field(field):\r\n",
        "    return Image.fromarray(np.uint8((field + 1) * 0.5 * 255))  # 0 ... 255\r\n",
        "\r\n",
        "conf=random_spin_field(10,10)\r\n",
        "n=len(conf)\r\n",
        "\r\n",
        "def metropolis_2d(config, J, kT):\r\n",
        "    N=len(config)\r\n",
        "    i=0\r\n",
        "    \r\n",
        "    for i in range(N):\r\n",
        "        for j in range(N):    \r\n",
        "                a = np.random.randint(0, N)\r\n",
        "                b = np.random.randint(0, N)\r\n",
        "                s =  config[a, b]\r\n",
        "                nb = config[(a+1)%N,b] + config[a,(b+1)%N] + config[(a-1)%N,b] + config[a,(b-1)%N]\r\n",
        "                cost = 2*s*nb\r\n",
        "                if cost < 0:\r\n",
        "                    s *= -1\r\n",
        "                elif rand() < np.exp(-cost/kT):\r\n",
        "                    s *= -1\r\n",
        "                config[a, b] = s\r\n",
        "                    \r\n",
        "    return config\r\n"
      ],
      "execution_count": null,
      "outputs": []
    },
    {
      "cell_type": "code",
      "metadata": {
        "id": "KSglojrkbOs6"
      },
      "source": [
        "def energy(config):\r\n",
        "    \r\n",
        "    energy = 0\r\n",
        "    for i in range(len(config)):\r\n",
        "        for j in range(len(config)):\r\n",
        "            S = config[i,j]\r\n",
        "            nb = config[(i+1)%N, j] + config[i,(j+1)%N] + config[(i-1)%N, j] + config[i,(j-1)%N]\r\n",
        "            energy += -nb*S\r\n",
        "    return energy/2"
      ],
      "execution_count": null,
      "outputs": []
    },
    {
      "cell_type": "code",
      "metadata": {
        "id": "XUYfEex8bs3Z"
      },
      "source": [
        "nt = 30        \r\n",
        "N  = 10        \r\n",
        "eqSteps = 100      \r\n",
        "mcSteps = 100      \r\n",
        "\r\n",
        "T = np.linspace(1, 5, nt); \r\n",
        "E_1 = np.zeros(nt)\r\n",
        "C_1=np.zeros(nt)\r\n",
        "n1, n2  = 1.0/(mcSteps*N*N), 1.0/(mcSteps*mcSteps*N*N) "
      ],
      "execution_count": null,
      "outputs": []
    },
    {
      "cell_type": "code",
      "metadata": {
        "id": "_L0B0AYOineR"
      },
      "source": [
        "for tt in range(nt):\r\n",
        "    E1 = M1 = E2 = M2 = 0\r\n",
        "    config = conf\r\n",
        "    iT=T[tt]; iT2=iT*iT;\r\n",
        "    \r\n",
        "    for i in range(eqSteps):        \r\n",
        "        metropolis_2d(config,1, iT)          \r\n",
        "\r\n",
        "    for i in range(mcSteps):\r\n",
        "        metropolis_2d(config,1, iT)           \r\n",
        "        Ene = energy(config)    \r\n",
        "              \r\n",
        "\r\n",
        "        E1 = E1 + Ene\r\n",
        "        E2 = E2 + Ene*Ene\r\n",
        "\r\n",
        "\r\n",
        "    E_1[tt] = n1*E1\r\n",
        "    C_1[tt]=(n1*E2 - n2*E1*E1)/iT2"
      ],
      "execution_count": null,
      "outputs": []
    },
    {
      "cell_type": "code",
      "metadata": {
        "colab": {
          "base_uri": "https://localhost:8080/",
          "height": 318
        },
        "id": "fnkNjhfTiwhE",
        "outputId": "81769d42-e0b3-4e52-a0de-9057a9dc7ddd"
      },
      "source": [
        "f = plt.figure(figsize=(18, 10));   \r\n",
        "\r\n",
        "sp =  f.add_subplot(2, 2, 1 );\r\n",
        "plt.plot(t,E, 'o-')\r\n",
        "plt.plot(T, E_1, 'o-')\r\n",
        "plt.xlabel(\"Temperature (T)\", fontsize=20);\r\n",
        "plt.ylabel(\"Energy \", fontsize=20);         \r\n"
      ],
      "execution_count": null,
      "outputs": [
        {
          "output_type": "display_data",
          "data": {
            "image/png": "[encoded data removed]",
            "text/plain": [
              "<Figure size 1296x720 with 1 Axes>"
            ]
          },
          "metadata": {
            "tags": [],
            "needs_background": "light"
          }
        }
      ]
    },
    {
      "cell_type": "code",
      "metadata": {
        "colab": {
          "base_uri": "https://localhost:8080/",
          "height": 318
        },
        "id": "fz6F4mb8jKDf",
        "outputId": "93fbf9c8-f682-44f9-a7fd-8fdb3db81d48"
      },
      "source": [
        "f = plt.figure(figsize=(18, 10)); # plot the calculated values    \r\n",
        "\r\n",
        "sp =  f.add_subplot(2, 2, 1 );\r\n",
        "plt.plot(t,C,'o-')\r\n",
        "plt.plot(T, C_1, 'o-')\r\n",
        "plt.xlabel(\"Temperature (T)\", fontsize=20);\r\n",
        "plt.ylabel(\"Specific Heat \", fontsize=20);         \r\n"
      ],
      "execution_count": null,
      "outputs": [
        {
          "output_type": "display_data",
          "data": {
            "image/png": "[encoded data removed]",
            "text/plain": [
              "<Figure size 1296x720 with 1 Axes>"
            ]
          },
          "metadata": {
            "tags": [],
            "needs_background": "light"
          }
        }
      ]
    },
    {
      "cell_type": "markdown",
      "metadata": {
        "id": "6DVmi2woGOVx"
      },
      "source": [
        "Литература\r\n",
        "\r\n",
        "1. N. Prokof’ev and B. Svistunov, “Worm Algorithms for Classical Statistical Models”,\r\n",
        "\r\n",
        "2. Simulating graphene impurities using the worm algorithm\r\n",
        "Marcin Szyniszewski, BSc, Major Physics Project\r\n",
        "Supervisor: Evgeni Burovski, PhD\r\n",
        "Department of Physics, Lancaster University\r\n",
        "\r\n",
        "\r\n"
      ]
    }
  ]
}